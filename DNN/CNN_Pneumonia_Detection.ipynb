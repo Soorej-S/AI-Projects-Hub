{
 "cells": [
  {
   "cell_type": "markdown",
   "id": "9bda93ba",
   "metadata": {
    "id": "9bda93ba"
   },
   "source": [
    "## Journal used for the implemetation\n",
    "Journal title: Using Convolutional Neural Network for Chest X-ray Image Classification\n",
    "\n",
    "Authors: Matija Sorić, Danijela Pongrac, Iñaki Inza\n",
    "\n",
    "Journal Name: MIPRO\n",
    "\n",
    "Year: 2020"
   ]
  },
  {
   "cell_type": "markdown",
   "id": "0c7f7028",
   "metadata": {
    "id": "0c7f7028"
   },
   "source": [
    "# 1. Import the required libraries"
   ]
  },
  {
   "cell_type": "code",
   "execution_count": 39,
   "id": "1a096390",
   "metadata": {
    "id": "1a096390"
   },
   "outputs": [
    {
     "name": "stdout",
     "output_type": "stream",
     "text": [
      "True\n"
     ]
    }
   ],
   "source": [
    "# Importing general libraries\n",
    "import os\n",
    "import numpy as np\n",
    "import cv2\n",
    "import matplotlib.pyplot as plt\n",
    "from mlxtend.plotting import plot_confusion_matrix\n",
    "\n",
    "# This line allows matplotlib visuals to render within a Jupyter Notebook\n",
    "%matplotlib inline\n",
    "\n",
    "# Importing sklearn metrics and ensemble for model evaluation and RandomForestClassifier\n",
    "from sklearn.metrics import accuracy_score, confusion_matrix, precision_score, recall_score, f1_score\n",
    "\n",
    "# Importing Keras and TensorFlow libraries for deep learning\n",
    "from keras import regularizers\n",
    "from keras.models import Sequential\n",
    "from keras.layers import Flatten, Dropout, Dense, BatchNormalization\n",
    "from keras.layers import PReLU, Conv2D, SeparableConv2D, MaxPool2D\n",
    "from keras.preprocessing.image import ImageDataGenerator\n",
    "from keras.callbacks import ModelCheckpoint, ReduceLROnPlateau, History, EarlyStopping\n",
    "import tensorflow as tf\n",
    "\n",
    "import warnings\n",
    "warnings.filterwarnings(\"ignore\")\n",
    "\n",
    "# Enabling eager execution for TensorFlow\n",
    "tf.compat.v1.enable_eager_execution()\n",
    "\n",
    "# Checking if eager execution is enabled\n",
    "print(tf.executing_eagerly())\n",
    "\n",
    "# Setting a seed value for reproducibility of results\n",
    "seed = 69\n",
    "np.random.seed(seed)\n",
    "tf.random.set_seed(seed)"
   ]
  },
  {
   "cell_type": "markdown",
   "id": "3cc8e0cb",
   "metadata": {
    "id": "3cc8e0cb"
   },
   "source": [
    "# 2. Data Acquisition\n",
    "\n",
    "Provide the URL of the data used: https://www.kaggle.com/datasets/paultimothymooney/chest-xray-pneumonia/code\n"
   ]
  },
  {
   "cell_type": "code",
   "execution_count": 11,
   "id": "4b51d895",
   "metadata": {
    "id": "4b51d895"
   },
   "outputs": [],
   "source": [
    "# Define the path to the dataset\n",
    "input_path = 'C:\\\\Users\\\\......\\\\chest_xray\\\\'\n",
    "\n",
    "# Read the files outside the function\n",
    "normal_test_images = os.listdir(input_path + 'test' + '/NORMAL/')\n",
    "pneumonia_test_images = os.listdir(input_path + 'test' + '/PNEUMONIA/')"
   ]
  },
  {
   "cell_type": "markdown",
   "id": "102e0e36",
   "metadata": {
    "id": "102e0e36"
   },
   "source": [
    "# 3. Data Preparation\n",
    "\n",
    "Perform the data prepracessing that is required for the data that have downloaded."
   ]
  },
  {
   "cell_type": "code",
   "execution_count": 12,
   "id": "27771fdb",
   "metadata": {},
   "outputs": [
    {
     "name": "stdout",
     "output_type": "stream",
     "text": [
      "Found 5216 images belonging to 2 classes.\n",
      "Found 624 images belonging to 2 classes.\n"
     ]
    }
   ],
   "source": [
    "def process_images(dimensions, batch, normal_test_images, pneumonia_test_images):\n",
    "  \"\"\"\n",
    "  Preprocesses and prepares the image data for training and testing.\n",
    "\n",
    "  Args:\n",
    "    dimensions (int): The desired dimensions for resizing the images.\n",
    "    batch (int): The batch size for generating the image data.\n",
    "    normal_test_images (list): List of file names for normal test images.\n",
    "    pneumonia_test_images (list): List of file names for pneumonia test images.\n",
    "\n",
    "  Returns:\n",
    "    tuple: A tuple containing the following elements:\n",
    "      - train_gen (ImageDataGenerator): Image data generator for training data.\n",
    "      - test_gen (ImageDataGenerator): Image data generator for testing data.\n",
    "      - test_data (ndarray): Preprocessed test images.\n",
    "      - test_labels (ndarray): Labels for the test images.\n",
    "  \"\"\"\n",
    "\n",
    "  # Initialize the ImageDataGenerator for training data with specific augmentations\n",
    "  train_datagen = ImageDataGenerator(rescale=1./255,\n",
    "                     zca_whitening=False,\n",
    "                     horizontal_flip=False,\n",
    "                     zoom_range=0.5,\n",
    "                     vertical_flip=True)\n",
    "\n",
    "  # Initialize the ImageDataGenerator for test/validation data with only rescaling\n",
    "  test_val_datagen = ImageDataGenerator(rescale=1./255)\n",
    "\n",
    "  # Generate batches of augmented image data for training\n",
    "  train_gen = train_datagen.flow_from_directory(directory=input_path + 'train',\n",
    "                          target_size=(dimensions, dimensions),\n",
    "                          batch_size=batch,\n",
    "                          class_mode='binary',\n",
    "                          shuffle=True)\n",
    "\n",
    "  # Generate batches of augmented image data for testing\n",
    "  test_gen = test_val_datagen.flow_from_directory(directory=input_path + 'test',\n",
    "                          target_size=(dimensions, dimensions),\n",
    "                          batch_size=batch,\n",
    "                          class_mode='binary',\n",
    "                          shuffle=True)\n",
    "\n",
    "  # Initialize lists to store the preprocessed test images and their labels\n",
    "  test_data = []\n",
    "  test_labels = []\n",
    "\n",
    "  # Loop over the conditions and corresponding image lists\n",
    "  for condition, images in [('/NORMAL/', normal_test_images), ('/PNEUMONIA/', pneumonia_test_images)]:\n",
    "    # Loop over the images in the current list\n",
    "    for image in images:\n",
    "      # Read the image file\n",
    "      image = plt.imread(input_path + 'test' + condition + image)\n",
    "      # Resize the image to the specified dimensions\n",
    "      image = cv2.resize(image, (dimensions, dimensions))\n",
    "      # Stack three copies of the image along the third dimension (to create a 3-channel image)\n",
    "      image = np.dstack([image, image, image])\n",
    "      # Rescale the pixel values to the range [0, 1]\n",
    "      image = image.astype('float32') / 255\n",
    "      # Assign a label to the image based on its condition\n",
    "      if condition == '/NORMAL/':\n",
    "        label = 0\n",
    "      elif condition == '/PNEUMONIA/':\n",
    "        label = 1\n",
    "\n",
    "      # Append the processed image and its label to the lists\n",
    "      test_data.append(image)\n",
    "      test_labels.append(label)\n",
    "\n",
    "  # Convert the lists to numpy arrays\n",
    "  test_data = np.array(test_data)\n",
    "  test_labels = np.array(test_labels)\n",
    "\n",
    "  # Return the training and test data generators, as well as the processed test data and labels\n",
    "  return train_gen, test_gen, test_data, test_labels\n",
    "\n",
    "# Set the desired dimensions for resizing the images\n",
    "dimensions = 150\n",
    "# Set the number of epochs for training\n",
    "epochs = 11\n",
    "# Set the batch size for generating the image data\n",
    "batch = 16\n",
    "\n",
    "# Call the function with the read files\n",
    "train_gen, test_gen, test_data, test_labels = process_images(dimensions, batch, normal_test_images, pneumonia_test_images)"
   ]
  },
  {
   "cell_type": "markdown",
   "id": "3ae0b5d2",
   "metadata": {
    "id": "3ae0b5d2"
   },
   "source": [
    "## 4. Deep Neural Network Architecture\n"
   ]
  },
  {
   "cell_type": "markdown",
   "id": "186bf4d7",
   "metadata": {
    "id": "186bf4d7"
   },
   "source": [
    "## 4.1 Design the architecture that you will be using\n",
    "\n",
    "* CNN as per the journal referenced\n",
    "\n"
   ]
  },
  {
   "cell_type": "code",
   "execution_count": null,
   "id": "868d7b27",
   "metadata": {
    "id": "868d7b27"
   },
   "outputs": [],
   "source": [
    "# Initialize the model\n",
    "model = Sequential()\n",
    "\n",
    "# Add the first convolutional block\n",
    "model.add(Conv2D(16, kernel_size=(3, 3), padding='same', input_shape=(150,150,3)))\n",
    "model.add(Conv2D(16, kernel_size=(3, 3), padding='same'))\n",
    "model.add(MaxPool2D(pool_size=(2, 2)))\n",
    "\n",
    "# Add the second convolutional block\n",
    "model.add(SeparableConv2D(32, kernel_size=(3, 3), padding = 'same'))\n",
    "model.add(PReLU(alpha_initializer=\"zero\"))\n",
    "model.add(SeparableConv2D(32, kernel_size=(3, 3), padding = 'same'))\n",
    "model.add(PReLU(alpha_initializer=\"zero\"))\n",
    "model.add(BatchNormalization())\n",
    "model.add(MaxPool2D(pool_size=(2, 2)))\n",
    "\n",
    "# Add the third convolutional block\n",
    "model.add(SeparableConv2D(64, kernel_size=(3, 3), padding = 'same'))\n",
    "model.add(PReLU(alpha_initializer=\"zero\"))\n",
    "model.add(SeparableConv2D(64, kernel_size=(3, 3), padding = 'same'))\n",
    "model.add(PReLU(alpha_initializer=\"zero\"))\n",
    "model.add(BatchNormalization())\n",
    "model.add(MaxPool2D(pool_size=(2, 2)))\n",
    "\n",
    "# Add the fourth convolutional block\n",
    "model.add(SeparableConv2D(128, kernel_size=(3, 3), padding = 'same'))\n",
    "model.add(PReLU(alpha_initializer=\"zero\"))\n",
    "model.add(SeparableConv2D(128, kernel_size=(3, 3), padding = 'same'))\n",
    "model.add(PReLU(alpha_initializer=\"zero\"))\n",
    "model.add(BatchNormalization())\n",
    "model.add(MaxPool2D(pool_size=(2, 2)))\n",
    "model.add(Dropout(0.2))\n",
    "\n",
    "# Add the fifth convolutional block\n",
    "model.add(SeparableConv2D(256, kernel_size=(3, 3), padding = 'same'))\n",
    "model.add(PReLU(alpha_initializer=\"zero\"))\n",
    "model.add(SeparableConv2D(256, kernel_size=(3, 3), padding = 'same'))\n",
    "model.add(PReLU(alpha_initializer=\"zero\"))\n",
    "model.add(BatchNormalization())\n",
    "model.add(MaxPool2D(pool_size=(2, 2)))\n",
    "model.add(Dropout(0.2))\n",
    "\n",
    "# Add the fully connected block\n",
    "model.add(Flatten())\n",
    "model.add(Dense(512, activation = 'relu', kernel_regularizer=regularizers.l2(0.01)))\n",
    "model.add(Dropout(0.6))\n",
    "model.add(Dense(128, activation = 'relu', kernel_regularizer=regularizers.l2(0.01)))\n",
    "model.add(Dropout(0.4))\n",
    "model.add(Dense(64, activation = 'relu', kernel_regularizer=regularizers.l2(0.01)))\n",
    "model.add(Dropout(0.25))\n",
    "model.add(Dense(1, activation = 'sigmoid', kernel_regularizer=regularizers.l2(0.01)))\n",
    "\n",
    "# Compile the model\n",
    "model.compile(optimizer = 'adam', \n",
    "              loss = 'binary_crossentropy', \n",
    "              metrics =['accuracy'])\n",
    "\n",
    "# Define callbacks\n",
    "checkpoint = ModelCheckpoint(filepath = 'weights.{epoch:02d}-{val_loss:.2f}.hdf5', \n",
    "                             verbose = 1,\n",
    "                             mode = 'auto',\n",
    "                             save_best_only=True, \n",
    "                             save_weights_only=True)\n",
    "lr_reduce = ReduceLROnPlateau(monitor='val_loss', \n",
    "                              factor=0.3, \n",
    "                              patience=2, \n",
    "                              verbose=1)\n",
    "history = History()\n",
    "early_stopping = EarlyStopping(monitor='val_accuracy', min_delta=0.1, patience=3) #zca whitening and early stopping, change"
   ]
  },
  {
   "cell_type": "markdown",
   "id": "575f9e37",
   "metadata": {
    "id": "575f9e37"
   },
   "source": [
    "## 4.2 DNN Report\n",
    "\n",
    "Report the following and provide justification for the same.\n",
    "\n",
    "* Number of layers\n",
    "* Number of units in each layer\n",
    "* Total number of trainable parameters\n",
    "\n"
   ]
  },
  {
   "cell_type": "code",
   "execution_count": 14,
   "id": "e921fbc4",
   "metadata": {},
   "outputs": [
    {
     "name": "stdout",
     "output_type": "stream",
     "text": [
      "Model: \"sequential_1\"\n",
      "_________________________________________________________________\n",
      " Layer (type)                Output Shape              Param #   \n",
      "=================================================================\n",
      " conv2d_2 (Conv2D)           (None, 150, 150, 16)      448       \n",
      "                                                                 \n",
      " conv2d_3 (Conv2D)           (None, 150, 150, 16)      2320      \n",
      "                                                                 \n",
      " max_pooling2d_5 (MaxPoolin  (None, 75, 75, 16)        0         \n",
      " g2D)                                                            \n",
      "                                                                 \n",
      " separable_conv2d_8 (Separa  (None, 75, 75, 32)        688       \n",
      " bleConv2D)                                                      \n",
      "                                                                 \n",
      " p_re_lu_8 (PReLU)           (None, 75, 75, 32)        180000    \n",
      "                                                                 \n",
      " separable_conv2d_9 (Separa  (None, 75, 75, 32)        1344      \n",
      " bleConv2D)                                                      \n",
      "                                                                 \n",
      " p_re_lu_9 (PReLU)           (None, 75, 75, 32)        180000    \n",
      "                                                                 \n",
      " batch_normalization_4 (Bat  (None, 75, 75, 32)        128       \n",
      " chNormalization)                                                \n",
      "                                                                 \n",
      " max_pooling2d_6 (MaxPoolin  (None, 37, 37, 32)        0         \n",
      " g2D)                                                            \n",
      "                                                                 \n",
      " separable_conv2d_10 (Separ  (None, 37, 37, 64)        2400      \n",
      " ableConv2D)                                                     \n",
      "                                                                 \n",
      " p_re_lu_10 (PReLU)          (None, 37, 37, 64)        87616     \n",
      "                                                                 \n",
      " separable_conv2d_11 (Separ  (None, 37, 37, 64)        4736      \n",
      " ableConv2D)                                                     \n",
      "                                                                 \n",
      " p_re_lu_11 (PReLU)          (None, 37, 37, 64)        87616     \n",
      "                                                                 \n",
      " batch_normalization_5 (Bat  (None, 37, 37, 64)        256       \n",
      " chNormalization)                                                \n",
      "                                                                 \n",
      " max_pooling2d_7 (MaxPoolin  (None, 18, 18, 64)        0         \n",
      " g2D)                                                            \n",
      "                                                                 \n",
      " separable_conv2d_12 (Separ  (None, 18, 18, 128)       8896      \n",
      " ableConv2D)                                                     \n",
      "                                                                 \n",
      " p_re_lu_12 (PReLU)          (None, 18, 18, 128)       41472     \n",
      "                                                                 \n",
      " separable_conv2d_13 (Separ  (None, 18, 18, 128)       17664     \n",
      " ableConv2D)                                                     \n",
      "                                                                 \n",
      " p_re_lu_13 (PReLU)          (None, 18, 18, 128)       41472     \n",
      "                                                                 \n",
      " batch_normalization_6 (Bat  (None, 18, 18, 128)       512       \n",
      " chNormalization)                                                \n",
      "                                                                 \n",
      " max_pooling2d_8 (MaxPoolin  (None, 9, 9, 128)         0         \n",
      " g2D)                                                            \n",
      "                                                                 \n",
      " dropout_5 (Dropout)         (None, 9, 9, 128)         0         \n",
      "                                                                 \n",
      " separable_conv2d_14 (Separ  (None, 9, 9, 256)         34176     \n",
      " ableConv2D)                                                     \n",
      "                                                                 \n",
      " p_re_lu_14 (PReLU)          (None, 9, 9, 256)         20736     \n",
      "                                                                 \n",
      " separable_conv2d_15 (Separ  (None, 9, 9, 256)         68096     \n",
      " ableConv2D)                                                     \n",
      "                                                                 \n",
      " p_re_lu_15 (PReLU)          (None, 9, 9, 256)         20736     \n",
      "                                                                 \n",
      " batch_normalization_7 (Bat  (None, 9, 9, 256)         1024      \n",
      " chNormalization)                                                \n",
      "                                                                 \n",
      " max_pooling2d_9 (MaxPoolin  (None, 4, 4, 256)         0         \n",
      " g2D)                                                            \n",
      "                                                                 \n",
      " dropout_6 (Dropout)         (None, 4, 4, 256)         0         \n",
      "                                                                 \n",
      " flatten_1 (Flatten)         (None, 4096)              0         \n",
      "                                                                 \n",
      " dense_4 (Dense)             (None, 512)               2097664   \n",
      "                                                                 \n",
      " dropout_7 (Dropout)         (None, 512)               0         \n",
      "                                                                 \n",
      " dense_5 (Dense)             (None, 128)               65664     \n",
      "                                                                 \n",
      " dropout_8 (Dropout)         (None, 128)               0         \n",
      "                                                                 \n",
      " dense_6 (Dense)             (None, 64)                8256      \n",
      "                                                                 \n",
      " dropout_9 (Dropout)         (None, 64)                0         \n",
      "                                                                 \n",
      " dense_7 (Dense)             (None, 1)                 65        \n",
      "                                                                 \n",
      "=================================================================\n",
      "Total params: 2973985 (11.34 MB)\n",
      "Trainable params: 2973025 (11.34 MB)\n",
      "Non-trainable params: 960 (3.75 KB)\n",
      "_________________________________________________________________\n"
     ]
    }
   ],
   "source": [
    "model.summary()"
   ]
  },
  {
   "cell_type": "markdown",
   "id": "bdbc82a1",
   "metadata": {
    "id": "bdbc82a1"
   },
   "source": [
    "# 5. Training the model\n"
   ]
  },
  {
   "cell_type": "code",
   "execution_count": 15,
   "id": "a85e9754",
   "metadata": {
    "id": "a85e9754"
   },
   "outputs": [
    {
     "name": "stdout",
     "output_type": "stream",
     "text": [
      "Epoch 1/11\n",
      "326/326 [==============================] - ETA: 0s - loss: 1.1503 - accuracy: 0.8077\n",
      "Epoch 1: val_loss improved from inf to 0.78236, saving model to weights.01-0.78.hdf5\n",
      "326/326 [==============================] - 166s 490ms/step - loss: 1.1503 - accuracy: 0.8077 - val_loss: 0.7824 - val_accuracy: 0.6250 - lr: 0.0010\n",
      "Epoch 2/11\n",
      "326/326 [==============================] - ETA: 0s - loss: 0.4122 - accuracy: 0.8612\n",
      "Epoch 2: val_loss improved from 0.78236 to 0.56174, saving model to weights.02-0.56.hdf5\n",
      "326/326 [==============================] - 169s 518ms/step - loss: 0.4122 - accuracy: 0.8612 - val_loss: 0.5617 - val_accuracy: 0.7212 - lr: 0.0010\n",
      "Epoch 3/11\n",
      "326/326 [==============================] - ETA: 0s - loss: 0.3791 - accuracy: 0.8729\n",
      "Epoch 3: val_loss improved from 0.56174 to 0.49853, saving model to weights.03-0.50.hdf5\n",
      "326/326 [==============================] - 167s 513ms/step - loss: 0.3791 - accuracy: 0.8729 - val_loss: 0.4985 - val_accuracy: 0.8734 - lr: 0.0010\n",
      "Epoch 4/11\n",
      "326/326 [==============================] - ETA: 0s - loss: 0.3615 - accuracy: 0.8838\n",
      "Epoch 4: val_loss did not improve from 0.49853\n",
      "326/326 [==============================] - 175s 537ms/step - loss: 0.3615 - accuracy: 0.8838 - val_loss: 0.4992 - val_accuracy: 0.8718 - lr: 0.0010\n",
      "Epoch 5/11\n",
      "326/326 [==============================] - ETA: 0s - loss: 0.3368 - accuracy: 0.9009\n",
      "Epoch 5: val_loss improved from 0.49853 to 0.42052, saving model to weights.05-0.42.hdf5\n",
      "326/326 [==============================] - 196s 602ms/step - loss: 0.3368 - accuracy: 0.9009 - val_loss: 0.4205 - val_accuracy: 0.8397 - lr: 0.0010\n",
      "Epoch 6/11\n",
      "326/326 [==============================] - ETA: 0s - loss: 0.3137 - accuracy: 0.9041\n",
      "Epoch 6: val_loss did not improve from 0.42052\n",
      "326/326 [==============================] - 195s 599ms/step - loss: 0.3137 - accuracy: 0.9041 - val_loss: 0.5297 - val_accuracy: 0.8429 - lr: 0.0010\n",
      "Epoch 7/11\n",
      "326/326 [==============================] - ETA: 0s - loss: 0.3052 - accuracy: 0.9112\n",
      "Epoch 7: val_loss did not improve from 0.42052\n",
      "\n",
      "Epoch 7: ReduceLROnPlateau reducing learning rate to 0.0003000000142492354.\n",
      "326/326 [==============================] - 186s 571ms/step - loss: 0.3052 - accuracy: 0.9112 - val_loss: 1.2981 - val_accuracy: 0.6955 - lr: 0.0010\n",
      "Epoch 8/11\n",
      "326/326 [==============================] - ETA: 0s - loss: 0.2397 - accuracy: 0.9344\n",
      "Epoch 8: val_loss did not improve from 0.42052\n",
      "326/326 [==============================] - 174s 534ms/step - loss: 0.2397 - accuracy: 0.9344 - val_loss: 0.4242 - val_accuracy: 0.8862 - lr: 3.0000e-04\n",
      "Epoch 9/11\n",
      "326/326 [==============================] - ETA: 0s - loss: 0.2132 - accuracy: 0.9415\n",
      "Epoch 9: val_loss improved from 0.42052 to 0.36869, saving model to weights.09-0.37.hdf5\n",
      "326/326 [==============================] - 177s 544ms/step - loss: 0.2132 - accuracy: 0.9415 - val_loss: 0.3687 - val_accuracy: 0.8862 - lr: 3.0000e-04\n",
      "Epoch 10/11\n",
      "326/326 [==============================] - ETA: 0s - loss: 0.2070 - accuracy: 0.9411\n",
      "Epoch 10: val_loss did not improve from 0.36869\n",
      "326/326 [==============================] - 173s 532ms/step - loss: 0.2070 - accuracy: 0.9411 - val_loss: 0.4381 - val_accuracy: 0.8686 - lr: 3.0000e-04\n",
      "Epoch 11/11\n",
      "326/326 [==============================] - ETA: 0s - loss: 0.2008 - accuracy: 0.9463\n",
      "Epoch 11: val_loss improved from 0.36869 to 0.31567, saving model to weights.11-0.32.hdf5\n",
      "326/326 [==============================] - 174s 533ms/step - loss: 0.2008 - accuracy: 0.9463 - val_loss: 0.3157 - val_accuracy: 0.9054 - lr: 3.0000e-04\n"
     ]
    }
   ],
   "source": [
    "# Fit the model to the training data using a generator\n",
    "hist = model.fit_generator(\n",
    "    train_gen,  # The generator that yields batches of training data\n",
    "    steps_per_epoch = train_gen.samples // batch,  # The number of steps (batches of samples) to yield from the generator before declaring one epoch finished\n",
    "    epochs = epochs,  # The number of times to iterate over the entire dataset\n",
    "    validation_data = test_gen,  # The generator that yields batches of validation data\n",
    "    validation_steps = test_gen.samples // batch,  # The number of steps (batches of samples) to yield from the validation_data generator before stopping at the end of every epoch\n",
    "    callbacks = [checkpoint, lr_reduce]  # List of callbacks to apply during training\n",
    ")"
   ]
  },
  {
   "cell_type": "markdown",
   "id": "06f1173c",
   "metadata": {
    "id": "06f1173c"
   },
   "source": [
    "# 6. Test the model\n"
   ]
  },
  {
   "cell_type": "code",
   "execution_count": 76,
   "id": "7042235d",
   "metadata": {
    "id": "7042235d"
   },
   "outputs": [
    {
     "name": "stdout",
     "output_type": "stream",
     "text": [
      "20/20 [==============================] - 4s 177ms/step\n"
     ]
    }
   ],
   "source": [
    "# Use the model to predict the probabilities for the positive class on the test data\n",
    "predict_probs = model.predict(test_data)\n",
    "\n",
    "# Round the predicted probabilities to the nearest integer (0 or 1) to get the predicted classes\n",
    "predict_classes = np.round(predict_probs).astype(int)"
   ]
  },
  {
   "cell_type": "markdown",
   "id": "eb57940c",
   "metadata": {
    "id": "eb57940c"
   },
   "source": [
    "# 7. Report the result\n",
    "\n",
    "1. Plot the training and validation accuracy history.\n",
    "2. Plot the training and validation loss history.\n",
    "3. Report the testing accuracy and loss.\n",
    "4. Show Confusion Matrix for testing dataset.\n",
    "5. Report values for preformance study metrics like accuracy, precision, recall, F1 Score.\n"
   ]
  },
  {
   "cell_type": "code",
   "execution_count": 77,
   "id": "cf409d22",
   "metadata": {
    "id": "cf409d22"
   },
   "outputs": [
    {
     "data": {
      "image/png": "[encoded data removed]",
      "text/plain": [
       "<Figure size 1500x500 with 2 Axes>"
      ]
     },
     "metadata": {},
     "output_type": "display_data"
    },
    {
     "name": "stdout",
     "output_type": "stream",
     "text": [
      "Testing accuracy: 0.9054487347602844, Testing loss: 0.3204965889453888\n",
      "\n",
      " Confusion Matrix:\n"
     ]
    },
    {
     "data": {
      "image/png": "[encoded data removed]",
      "text/plain": [
       "<Figure size 600x400 with 1 Axes>"
      ]
     },
     "metadata": {},
     "output_type": "display_data"
    },
    {
     "name": "stdout",
     "output_type": "stream",
     "text": [
      "Accuracy: 0.905448717948718\n",
      "Precision: 0.8822170900692841\n",
      "Recall: 0.9794871794871794\n",
      "F1 Score: 0.928311057108141\n"
     ]
    }
   ],
   "source": [
    "cm = confusion_matrix(test_labels, np.round(predict_probs))\n",
    "fig, axs = plt.subplots(1, 2, figsize=(15, 5))  # Create a figure and a 1x2 subplot\n",
    "\n",
    "# 1. Plot the training and validation accuracy history\n",
    "axs[0].plot(hist.history['accuracy'])\n",
    "axs[0].plot(hist.history['val_accuracy'])\n",
    "axs[0].set_title('Model accuracy')\n",
    "axs[0].set_ylabel('Accuracy')\n",
    "axs[0].set_xlabel('Epoch')\n",
    "axs[0].legend(['Train', 'Validation'], loc='upper left')\n",
    "\n",
    "# 2. Plot the training and validation loss history\n",
    "axs[1].plot(hist.history['loss'])\n",
    "axs[1].plot(hist.history['val_loss'])\n",
    "axs[1].set_title('Model loss')\n",
    "axs[1].set_ylabel('Loss')\n",
    "axs[1].set_xlabel('Epoch')\n",
    "axs[1].legend(['Train', 'Validation'], loc='upper left')\n",
    "\n",
    "plt.tight_layout()\n",
    "plt.show()\n",
    "\n",
    "# 3. Report the testing accuracy and loss\n",
    "test_loss, test_accuracy = model.evaluate(test_data, test_labels, verbose=0)\n",
    "print(f'Testing accuracy: {test_accuracy}, Testing loss: {test_loss}')\n",
    "\n",
    "# 4. Show Confusion Matrix for testing dataset\n",
    "print('\\n Confusion Matrix:')\n",
    "plot_confusion_matrix(cm,figsize=(6, 4), hide_ticks=True ,cmap=plt.cm.Blues)\n",
    "plt.xticks(range(2), ['Normal', 'Pneumonia'], fontsize=16)\n",
    "plt.yticks(range(2), ['Normal', 'Pneumonia'], fontsize=16)\n",
    "plt.show()\n",
    "\n",
    "# 5. Report values for performance study metrics like accuracy, precision, recall, F1 Score\n",
    "tn, fp, fn, tp = cm.ravel()\n",
    "accuracy = (tp + tn) / (tp + tn + fp + fn)\n",
    "precision = tp / (tp + fp)\n",
    "recall = tp / (tp + fn)\n",
    "f1_score = 2 * (precision * recall) / (precision + recall)\n",
    "\n",
    "# Print metrics\n",
    "print(f\"Accuracy: {accuracy}\")\n",
    "print(f\"Precision: {precision}\")\n",
    "print(f\"Recall: {recall}\")\n",
    "print(f\"F1 Score: {f1_score}\")"
   ]
  }
 ],
 "metadata": {
  "colab": {
   "provenance": []
  },
  "kernelspec": {
   "display_name": "Python 3 (ipykernel)",
   "language": "python",
   "name": "python3"
  },
  "language_info": {
   "codemirror_mode": {
    "name": "ipython",
    "version": 3
   },
   "file_extension": ".py",
   "mimetype": "text/x-python",
   "name": "python",
   "nbconvert_exporter": "python",
   "pygments_lexer": "ipython3",
   "version": "3.12.3"
  }
 },
 "nbformat": 4,
 "nbformat_minor": 5
}
